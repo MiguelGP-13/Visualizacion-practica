{
 "cells": [
  {
   "cell_type": "code",
   "execution_count": 1,
   "id": "cd125b84",
   "metadata": {},
   "outputs": [],
   "source": [
    "import pandas as pd\n",
    "# Importamos datos de pacientes.xlsx\n",
    "datos_paciente = pd.read_excel('data/pacientes.xlsx', sheet_name=0)\n",
    "historia_cardiovascular = pd.read_excel('data/pacientes.xlsx', sheet_name=1)\n",
    "antitrombotico = pd.read_excel('data/pacientes.xlsx', sheet_name=2)\n",
    "otros_diagnosticos = pd.read_excel('data/pacientes.xlsx', sheet_name=3)\n",
    "factores_riesgo = pd.read_excel('data/pacientes.xlsx', sheet_name=4)\n",
    "habitos = pd.read_excel('data/pacientes.xlsx', sheet_name=5)"
   ]
  },
  {
   "cell_type": "code",
   "execution_count": 14,
   "id": "b223174f",
   "metadata": {},
   "outputs": [],
   "source": [
    "from openpyxl import load_workbook\n",
    "import pandas as pd\n",
    "for doc in ['data/pacientes.xlsx','data/eventos.xlsx' ]:\n",
    "    workbook = load_workbook(doc)\n",
    "    for i,nombre_hoja in enumerate(workbook.sheetnames):\n",
    "        df = pd.read_excel(doc, sheet_name=i)\n",
    "        df = pd.DataFrame(datos_paciente.dtypes)\n",
    "        df['Campos (poner el nombre) '] = df.index\n",
    "        df['Tipo de atributo y cardinalidad'] = df[0]\n",
    "        df['Hoja de Excel'] = nombre_hoja\n",
    "        df.to_csv('tablas_word/'+doc.split('/')[-1].split('.')[0]+'/'+nombre_hoja+'.csv')"
   ]
  },
  {
   "cell_type": "code",
   "execution_count": 16,
   "id": "d3ef923e",
   "metadata": {},
   "outputs": [
    {
     "name": "stdout",
     "output_type": "stream",
     "text": [
      "¡Archivos combinados guardados en: tablas_word/eventos/final.csv!\n",
      "¡Archivos combinados guardados en: tablas_word/pacientes/final.csv!\n"
     ]
    }
   ],
   "source": [
    "import pandas as pd\n",
    "import os\n",
    "\n",
    "# Especifica la carpeta donde se encuentran los CSV\n",
    "carpeta_csv = \"ruta/a/tu/carpeta\"\n",
    "for carpeta_csv in ['tablas_word/eventos','tablas_word/pacientes']:\n",
    "    # Lista para almacenar los DataFrames\n",
    "    dataframes = []\n",
    "\n",
    "    # Itera sobre todos los archivos en la carpeta\n",
    "    for archivo in os.listdir(carpeta_csv):\n",
    "        if archivo.endswith(\".csv\"):  # Asegúrate de que sea un archivo CSV\n",
    "            ruta_completa = os.path.join(carpeta_csv, archivo)\n",
    "            df = pd.read_csv(ruta_completa)  # Leer el archivo CSV\n",
    "            dataframes.append(df)  # Agregar el DataFrame a la lista\n",
    "\n",
    "    # Combina todos los DataFrames en uno solo\n",
    "    csv_combinado = pd.concat(dataframes, ignore_index=True)\n",
    "\n",
    "    # Guarda el archivo combinado en un nuevo CSV\n",
    "    ruta_salida = carpeta_csv+'/final.csv'\n",
    "    csv_combinado[['Hoja de Excel', 'Campos (poner el nombre) ','Tipo de atributo y cardinalidad']].to_csv(ruta_salida, index=False)\n",
    "\n",
    "    print(f\"¡Archivos combinados guardados en: {ruta_salida}!\")\n",
    "\n"
   ]
  },
  {
   "cell_type": "code",
   "execution_count": null,
   "id": "bc211c9e",
   "metadata": {},
   "outputs": [],
   "source": []
  }
 ],
 "metadata": {
  "kernelspec": {
   "display_name": "Python 3",
   "language": "python",
   "name": "python3"
  },
  "language_info": {
   "codemirror_mode": {
    "name": "ipython",
    "version": 3
   },
   "file_extension": ".py",
   "mimetype": "text/x-python",
   "name": "python",
   "nbconvert_exporter": "python",
   "pygments_lexer": "ipython3",
   "version": "3.12.10"
  }
 },
 "nbformat": 4,
 "nbformat_minor": 5
}
