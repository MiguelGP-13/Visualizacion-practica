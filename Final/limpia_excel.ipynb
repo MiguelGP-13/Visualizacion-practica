{
 "cells": [
  {
   "cell_type": "code",
   "execution_count": 1,
   "id": "c85dab7a",
   "metadata": {},
   "outputs": [],
   "source": [
    "import pandas as pd"
   ]
  },
  {
   "cell_type": "code",
   "execution_count": 2,
   "id": "9483e7e4",
   "metadata": {},
   "outputs": [],
   "source": [
    "# Importamos datos de pacientes.xlsx\n",
    "datos_paciente = pd.read_excel('data/pacientes.xlsx', sheet_name=0)\n",
    "historia_cardiovascular = pd.read_excel('data/pacientes.xlsx', sheet_name=1)\n",
    "antitrombotico = pd.read_excel('data/pacientes.xlsx', sheet_name=2)\n",
    "otros_diagnosticos = pd.read_excel('data/pacientes.xlsx', sheet_name=3)\n",
    "factores_riesgo = pd.read_excel('data/pacientes.xlsx', sheet_name=4)\n",
    "habitos = pd.read_excel('data/pacientes.xlsx', sheet_name=5)"
   ]
  },
  {
   "cell_type": "code",
   "execution_count": 3,
   "id": "20d9125c",
   "metadata": {},
   "outputs": [
    {
     "data": {
      "text/plain": [
       "Paciente    0\n",
       "dtype: int64"
      ]
     },
     "execution_count": 3,
     "metadata": {},
     "output_type": "execute_result"
    }
   ],
   "source": [
    "antitrombotico.isna().sum()[antitrombotico.isna().sum() == 0]"
   ]
  },
  {
   "cell_type": "code",
   "execution_count": 100,
   "id": "36a92aa9",
   "metadata": {},
   "outputs": [],
   "source": [
    "# Importamos datos de eventos.xlsx\n",
    "sangrado = pd.read_excel('data/eventos.xlsx', sheet_name=0)\n",
    "trombotico = pd.read_excel('data/eventos.xlsx', sheet_name=1)"
   ]
  },
  {
   "cell_type": "markdown",
   "id": "f011776f",
   "metadata": {},
   "source": [
    "### Datos paciente"
   ]
  },
  {
   "cell_type": "code",
   "execution_count": 101,
   "id": "13367e7d",
   "metadata": {},
   "outputs": [
    {
     "data": {
      "text/plain": [
       "Edad        0\n",
       "Paciente    0\n",
       "Sexo        0\n",
       "dtype: int64"
      ]
     },
     "execution_count": 101,
     "metadata": {},
     "output_type": "execute_result"
    }
   ],
   "source": [
    "datos_paciente.isna().sum()"
   ]
  },
  {
   "cell_type": "markdown",
   "id": "72c54771",
   "metadata": {},
   "source": [
    "### Historia cardiovascular"
   ]
  },
  {
   "cell_type": "code",
   "execution_count": 102,
   "id": "cdaf6737",
   "metadata": {},
   "outputs": [
    {
     "data": {
      "text/plain": [
       "[]"
      ]
     },
     "execution_count": 102,
     "metadata": {},
     "output_type": "execute_result"
    }
   ],
   "source": [
    "historia_cardiovascular.isna().sum(axis='columns')[historia_cardiovascular.isna().sum(axis='columns') >= historia_cardiovascular.shape[1]-2].index.to_list()\n"
   ]
  },
  {
   "cell_type": "code",
   "execution_count": 103,
   "id": "1a54b1cc",
   "metadata": {},
   "outputs": [
    {
     "data": {
      "text/plain": [
       "Max valor P. Sistólica                            33.333333\n",
       "Hypertensión controlada                           33.333333\n",
       "Medicamento Antihipertensivo                      34.782609\n",
       "Arritmia auricular                                43.478261\n",
       "Muerte súbita cardíaca                            43.478261\n",
       "Taquicardia paroxística supraventicular           43.478261\n",
       "Taquicardia ventricular                           43.478261\n",
       "Ablación                                          44.927536\n",
       "Tipo                                              71.014493\n",
       "Etiología                                         71.014493\n",
       "NYHA                                              71.014493\n",
       "Fracción de Eyección del Ventrículo Izquierdo     71.014493\n",
       "Ingurgitación de vena yugular                     71.014493\n",
       "Presencia de crepitantes                          71.014493\n",
       "Hipertensión pulmonar                             71.014493\n",
       "Transplante cardíaco                              72.463768\n",
       "Resincronización                                  72.463768\n",
       "Cuantos?                                          79.710145\n",
       "Tipo de intervencion                              81.159420\n",
       "Tipo de valvulopatía                              89.855072\n",
       "Cirugía                                           92.753623\n",
       "Cirugía.1                                         95.652174\n",
       "Tipo de cardiomiopatía                            95.652174\n",
       "Fecha del transplante                            100.000000\n",
       "Fecha de la resincronización                     100.000000\n",
       "dtype: float64"
      ]
     },
     "execution_count": 103,
     "metadata": {},
     "output_type": "execute_result"
    }
   ],
   "source": [
    "(historia_cardiovascular.isna().sum()[historia_cardiovascular.isna().sum() > 0]/historia_cardiovascular.shape[0]*100).sort_values()"
   ]
  },
  {
   "cell_type": "code",
   "execution_count": 104,
   "id": "a4b1c17a",
   "metadata": {},
   "outputs": [
    {
     "data": {
      "text/plain": [
       "Paciente                          0\n",
       "Hipertensión arterial             0\n",
       "Valvulopatía                      0\n",
       "Enfermedad coronaria              0\n",
       "Enfermedad aórtica                0\n",
       "Enfermedad carótidea              0\n",
       "Enfermedad vascular periférica    0\n",
       "Arritmias                         0\n",
       "Insuficiencia cardíaca            0\n",
       "Miocardiopatía                    0\n",
       "dtype: int64"
      ]
     },
     "execution_count": 104,
     "metadata": {},
     "output_type": "execute_result"
    }
   ],
   "source": [
    "historia_cardiovascular.isna().sum()[historia_cardiovascular.isna().sum() == 0]"
   ]
  },
  {
   "cell_type": "markdown",
   "id": "17c9a796",
   "metadata": {},
   "source": [
    "#### Tipops enfermedades:\n",
    "1. Hipertersión arterial\n",
    "   - Max valor P. Sistólica\n",
    "   - Hypertensión controlada\n",
    "   - Medicamento Antihipertensivo\n",
    "   - \n",
    "2. Enfermedad coronaria\n",
    "   - Tipo\n",
    "   - Cuantos?\n",
    "   - Tipo de intervencion\n",
    "3. Arritmias\n",
    "    - Arritmia auricular\n",
    "    - Muerte súbita cardíaca                            \n",
    "    - Taquicardia paroxística supraventicular           \n",
    "    - Taquicardia ventricular                           \n",
    "    - Ablación\n",
    "4. Insuficiencia cardíaca\n",
    "    - Etiología                                         \n",
    "    - NYHA                                              \n",
    "    - Fracción de Eyección del Ventrículo Izquierdo     \n",
    "    - Ingurgitación de vena yugular                     \n",
    "    - Presencia de crepitantes                          \n",
    "    - Hipertensión pulmonar                             \n",
    "    - Transplante cardíaco                              \n",
    "    - Resincronización\n",
    "5. Miocardiopatía\n",
    "6. Enfermedad vascular periférica\n",
    "7. Valvulopatía\n",
    "8. Enfermedad aórtica \n",
    "9. Enfermedad carótidea"
   ]
  },
  {
   "cell_type": "code",
   "execution_count": 105,
   "id": "4e6185be",
   "metadata": {},
   "outputs": [],
   "source": [
    "limpio = historia_cardiovascular.copy()\n",
    "\n",
    "limpio['Valvulopatía'] = historia_cardiovascular['Tipo de valvulopatía'].fillna('NO')\n",
    "limpio['Miocardiopatía'] = historia_cardiovascular['Tipo de cardiomiopatía'].fillna('NO')\n",
    "def limpiar_carotidea(x):\n",
    "    if x['Enfermedad carótidea'] == 'NO': \n",
    "        res = x['Enfermedad carótidea'] \n",
    "    else:\n",
    "        if x['Cirugía.1'] == 'YES':\n",
    "            res = 'Cirugía'\n",
    "        else:\n",
    "            res = 'Sin cirugía'\n",
    "    return res\n",
    "\n",
    "limpio['Enfermedad carótidea'] = historia_cardiovascular.apply(limpiar_carotidea, axis=1)\n",
    "\n",
    "def limpiar_aortica(x):\n",
    "    if x['Enfermedad aórtica'] == 'NO': \n",
    "        res = x['Enfermedad aórtica'] \n",
    "    else:\n",
    "        if x['Cirugía'] == 'YES':\n",
    "            res = 'Cirugía'\n",
    "        else:\n",
    "            res = 'Sin cirugía'\n",
    "    return res\n",
    "\n",
    "limpio['Enfermedad aórtica'] = historia_cardiovascular.apply(limpiar_aortica, axis=1)\n",
    "\n",
    "limpio.drop(['Tipo de valvulopatía', 'Tipo de cardiomiopatía','Fecha del transplante',\n",
    "             'Fecha de la resincronización', 'Cirugía','Cirugía.1'], axis='columns', inplace=True)\n",
    "limpio.to_csv('data/historia_cardiovascular_limpio.csv')"
   ]
  },
  {
   "cell_type": "code",
   "execution_count": 106,
   "id": "dac7734e",
   "metadata": {},
   "outputs": [
    {
     "data": {
      "text/html": [
       "<div>\n",
       "<style scoped>\n",
       "    .dataframe tbody tr th:only-of-type {\n",
       "        vertical-align: middle;\n",
       "    }\n",
       "\n",
       "    .dataframe tbody tr th {\n",
       "        vertical-align: top;\n",
       "    }\n",
       "\n",
       "    .dataframe thead th {\n",
       "        text-align: right;\n",
       "    }\n",
       "</style>\n",
       "<table border=\"1\" class=\"dataframe\">\n",
       "  <thead>\n",
       "    <tr style=\"text-align: right;\">\n",
       "      <th></th>\n",
       "      <th>Paciente</th>\n",
       "      <th>Hipertensión arterial</th>\n",
       "      <th>Max valor P. Sistólica</th>\n",
       "      <th>Hypertensión controlada</th>\n",
       "      <th>Medicamento Antihipertensivo</th>\n",
       "      <th>Valvulopatía</th>\n",
       "      <th>Enfermedad coronaria</th>\n",
       "      <th>Tipo</th>\n",
       "      <th>Cuantos?</th>\n",
       "      <th>Tipo de intervencion</th>\n",
       "      <th>...</th>\n",
       "      <th>Insuficiencia cardíaca</th>\n",
       "      <th>Etiología</th>\n",
       "      <th>NYHA</th>\n",
       "      <th>Fracción de Eyección del Ventrículo Izquierdo</th>\n",
       "      <th>Hipertensión pulmonar</th>\n",
       "      <th>Presencia de crepitantes</th>\n",
       "      <th>Ingurgitación de vena yugular</th>\n",
       "      <th>Transplante cardíaco</th>\n",
       "      <th>Resincronización</th>\n",
       "      <th>Miocardiopatía</th>\n",
       "    </tr>\n",
       "  </thead>\n",
       "  <tbody>\n",
       "    <tr>\n",
       "      <th>0</th>\n",
       "      <td>UUMVLL1ZE5</td>\n",
       "      <td>YES</td>\n",
       "      <td>180.0</td>\n",
       "      <td>YES</td>\n",
       "      <td>YES</td>\n",
       "      <td>NO</td>\n",
       "      <td>NO</td>\n",
       "      <td>NaN</td>\n",
       "      <td>NaN</td>\n",
       "      <td>NaN</td>\n",
       "      <td>...</td>\n",
       "      <td>NO</td>\n",
       "      <td>NaN</td>\n",
       "      <td>NaN</td>\n",
       "      <td>NaN</td>\n",
       "      <td>NaN</td>\n",
       "      <td>NaN</td>\n",
       "      <td>NaN</td>\n",
       "      <td>NaN</td>\n",
       "      <td>NaN</td>\n",
       "      <td>NO</td>\n",
       "    </tr>\n",
       "    <tr>\n",
       "      <th>1</th>\n",
       "      <td>F1G3JGJUK8</td>\n",
       "      <td>YES</td>\n",
       "      <td>160.0</td>\n",
       "      <td>YES</td>\n",
       "      <td>YES</td>\n",
       "      <td>IM</td>\n",
       "      <td>YES</td>\n",
       "      <td>NaN</td>\n",
       "      <td>NaN</td>\n",
       "      <td>NaN</td>\n",
       "      <td>...</td>\n",
       "      <td>YES</td>\n",
       "      <td>ISCHEMIC</td>\n",
       "      <td>CLASS_2</td>\n",
       "      <td>51.0</td>\n",
       "      <td>NO</td>\n",
       "      <td>NO</td>\n",
       "      <td>NO</td>\n",
       "      <td>NO</td>\n",
       "      <td>NO</td>\n",
       "      <td>NO</td>\n",
       "    </tr>\n",
       "    <tr>\n",
       "      <th>2</th>\n",
       "      <td>LARERARYLK</td>\n",
       "      <td>NO</td>\n",
       "      <td>NaN</td>\n",
       "      <td>NaN</td>\n",
       "      <td>NaN</td>\n",
       "      <td>NO</td>\n",
       "      <td>NO</td>\n",
       "      <td>NaN</td>\n",
       "      <td>NaN</td>\n",
       "      <td>NaN</td>\n",
       "      <td>...</td>\n",
       "      <td>NO</td>\n",
       "      <td>NaN</td>\n",
       "      <td>NaN</td>\n",
       "      <td>NaN</td>\n",
       "      <td>NaN</td>\n",
       "      <td>NaN</td>\n",
       "      <td>NaN</td>\n",
       "      <td>NaN</td>\n",
       "      <td>NaN</td>\n",
       "      <td>NO</td>\n",
       "    </tr>\n",
       "    <tr>\n",
       "      <th>3</th>\n",
       "      <td>EFPKQPJUK2</td>\n",
       "      <td>YES</td>\n",
       "      <td>130.0</td>\n",
       "      <td>YES</td>\n",
       "      <td>YES</td>\n",
       "      <td>IM</td>\n",
       "      <td>NO</td>\n",
       "      <td>NaN</td>\n",
       "      <td>NaN</td>\n",
       "      <td>NaN</td>\n",
       "      <td>...</td>\n",
       "      <td>NO</td>\n",
       "      <td>NaN</td>\n",
       "      <td>NaN</td>\n",
       "      <td>NaN</td>\n",
       "      <td>NaN</td>\n",
       "      <td>NaN</td>\n",
       "      <td>NaN</td>\n",
       "      <td>NaN</td>\n",
       "      <td>NaN</td>\n",
       "      <td>NO</td>\n",
       "    </tr>\n",
       "    <tr>\n",
       "      <th>4</th>\n",
       "      <td>SVFI5UM8L9</td>\n",
       "      <td>YES</td>\n",
       "      <td>148.0</td>\n",
       "      <td>YES</td>\n",
       "      <td>YES</td>\n",
       "      <td>NO</td>\n",
       "      <td>YES</td>\n",
       "      <td>NaN</td>\n",
       "      <td>NaN</td>\n",
       "      <td>NaN</td>\n",
       "      <td>...</td>\n",
       "      <td>NO</td>\n",
       "      <td>NaN</td>\n",
       "      <td>NaN</td>\n",
       "      <td>NaN</td>\n",
       "      <td>NaN</td>\n",
       "      <td>NaN</td>\n",
       "      <td>NaN</td>\n",
       "      <td>NaN</td>\n",
       "      <td>NaN</td>\n",
       "      <td>NO</td>\n",
       "    </tr>\n",
       "    <tr>\n",
       "      <th>5</th>\n",
       "      <td>S10Q6HFVAK</td>\n",
       "      <td>YES</td>\n",
       "      <td>170.0</td>\n",
       "      <td>NO</td>\n",
       "      <td>NaN</td>\n",
       "      <td>NO</td>\n",
       "      <td>YES</td>\n",
       "      <td>SCA</td>\n",
       "      <td>2.0</td>\n",
       "      <td>NaN</td>\n",
       "      <td>...</td>\n",
       "      <td>NO</td>\n",
       "      <td>NaN</td>\n",
       "      <td>NaN</td>\n",
       "      <td>NaN</td>\n",
       "      <td>NaN</td>\n",
       "      <td>NaN</td>\n",
       "      <td>NaN</td>\n",
       "      <td>NaN</td>\n",
       "      <td>NaN</td>\n",
       "      <td>NO</td>\n",
       "    </tr>\n",
       "  </tbody>\n",
       "</table>\n",
       "<p>6 rows × 29 columns</p>\n",
       "</div>"
      ],
      "text/plain": [
       "     Paciente Hipertensión arterial  Max valor P. Sistólica  \\\n",
       "0  UUMVLL1ZE5                   YES                   180.0   \n",
       "1  F1G3JGJUK8                   YES                   160.0   \n",
       "2  LARERARYLK                    NO                     NaN   \n",
       "3  EFPKQPJUK2                   YES                   130.0   \n",
       "4  SVFI5UM8L9                   YES                   148.0   \n",
       "5  S10Q6HFVAK                   YES                   170.0   \n",
       "\n",
       "  Hypertensión controlada Medicamento Antihipertensivo Valvulopatía  \\\n",
       "0                     YES                          YES           NO   \n",
       "1                     YES                          YES           IM   \n",
       "2                     NaN                          NaN           NO   \n",
       "3                     YES                          YES           IM   \n",
       "4                     YES                          YES           NO   \n",
       "5                      NO                          NaN           NO   \n",
       "\n",
       "  Enfermedad coronaria Tipo  Cuantos? Tipo de intervencion  ...  \\\n",
       "0                   NO  NaN       NaN                  NaN  ...   \n",
       "1                  YES  NaN       NaN                  NaN  ...   \n",
       "2                   NO  NaN       NaN                  NaN  ...   \n",
       "3                   NO  NaN       NaN                  NaN  ...   \n",
       "4                  YES  NaN       NaN                  NaN  ...   \n",
       "5                  YES  SCA       2.0                  NaN  ...   \n",
       "\n",
       "  Insuficiencia cardíaca Etiología     NYHA  \\\n",
       "0                     NO       NaN      NaN   \n",
       "1                    YES  ISCHEMIC  CLASS_2   \n",
       "2                     NO       NaN      NaN   \n",
       "3                     NO       NaN      NaN   \n",
       "4                     NO       NaN      NaN   \n",
       "5                     NO       NaN      NaN   \n",
       "\n",
       "  Fracción de Eyección del Ventrículo Izquierdo Hipertensión pulmonar  \\\n",
       "0                                           NaN                   NaN   \n",
       "1                                          51.0                    NO   \n",
       "2                                           NaN                   NaN   \n",
       "3                                           NaN                   NaN   \n",
       "4                                           NaN                   NaN   \n",
       "5                                           NaN                   NaN   \n",
       "\n",
       "  Presencia de crepitantes Ingurgitación de vena yugular Transplante cardíaco  \\\n",
       "0                      NaN                           NaN                  NaN   \n",
       "1                       NO                            NO                   NO   \n",
       "2                      NaN                           NaN                  NaN   \n",
       "3                      NaN                           NaN                  NaN   \n",
       "4                      NaN                           NaN                  NaN   \n",
       "5                      NaN                           NaN                  NaN   \n",
       "\n",
       "  Resincronización Miocardiopatía  \n",
       "0              NaN             NO  \n",
       "1               NO             NO  \n",
       "2              NaN             NO  \n",
       "3              NaN             NO  \n",
       "4              NaN             NO  \n",
       "5              NaN             NO  \n",
       "\n",
       "[6 rows x 29 columns]"
      ]
     },
     "execution_count": 106,
     "metadata": {},
     "output_type": "execute_result"
    }
   ],
   "source": [
    "limpio.head(6)"
   ]
  },
  {
   "cell_type": "markdown",
   "id": "4bf31969",
   "metadata": {},
   "source": [
    "### Antitromboticos"
   ]
  },
  {
   "cell_type": "code",
   "execution_count": 107,
   "id": "2f299eb7",
   "metadata": {},
   "outputs": [
    {
     "data": {
      "text/plain": [
       "[9]"
      ]
     },
     "execution_count": 107,
     "metadata": {},
     "output_type": "execute_result"
    }
   ],
   "source": [
    "filas_vacios = antitrombotico.isna().sum(axis='columns')[antitrombotico.isna().sum(axis='columns') >= antitrombotico.shape[1]-2].index.to_list()\n",
    "filas_vacios"
   ]
  },
  {
   "cell_type": "code",
   "execution_count": 108,
   "id": "ffb4a20f",
   "metadata": {},
   "outputs": [
    {
     "data": {
      "text/plain": [
       "9    22\n",
       "dtype: int64"
      ]
     },
     "execution_count": 108,
     "metadata": {},
     "output_type": "execute_result"
    }
   ],
   "source": [
    "antitrombotico[antitrombotico['Paciente'] == '7IZPLD5RU4'].isna().sum(axis='columns')"
   ]
  },
  {
   "cell_type": "code",
   "execution_count": 109,
   "id": "7b1976c0",
   "metadata": {},
   "outputs": [
    {
     "data": {
      "text/plain": [
       "Se ha aplicado alguna guía clínica para la definición del tratamiento antitrombótico?      1.428571\n",
       "Se le ha prescrito anticoagulante?                                                         1.428571\n",
       "Plan terapeutico antiagregante 1                                                           1.428571\n",
       "Numero de antiagregantes                                                                   1.428571\n",
       "Se le ha prescrito algún antiagregante?                                                    1.428571\n",
       "Antiagregante 2                                                                            1.428571\n",
       "Plan terapeutico antiagregante 2                                                           1.428571\n",
       "Antiagregante 1                                                                            1.428571\n",
       "Plan terapeutico del anticoagulante                                                        8.571429\n",
       "Motivo                                                                                     8.571429\n",
       "Tipo de anticoagulante                                                                     8.571429\n",
       "Tipo de AVK                                                                               15.714286\n",
       "Tipo de ACOD                                                                              94.285714\n",
       "Otro motivo                                                                               95.714286\n",
       "Numero de meses                                                                           97.142857\n",
       "Otro tipo de ACOD                                                                         98.571429\n",
       "Otro tipo                                                                                 98.571429\n",
       "Otro tipo de AVK                                                                         100.000000\n",
       "Numero de meses.1                                                                        100.000000\n",
       "Otro antiagregante 1                                                                     100.000000\n",
       "Numero de meses.2                                                                        100.000000\n",
       "Otro antiagregante 2                                                                     100.000000\n",
       "dtype: float64"
      ]
     },
     "execution_count": 109,
     "metadata": {},
     "output_type": "execute_result"
    }
   ],
   "source": [
    "(antitrombotico.isna().sum()[antitrombotico.isna().sum() > 0]/antitrombotico.shape[0]*100).sort_values()"
   ]
  },
  {
   "cell_type": "code",
   "execution_count": 110,
   "id": "bfaec971",
   "metadata": {},
   "outputs": [],
   "source": [
    "borrar = antitrombotico.isna().sum()[antitrombotico.isna().sum() == antitrombotico.shape[0]].index.to_list()\n",
    "borrar += ['Otro tipo', 'Otro tipo de ACOD', 'Numero de meses']"
   ]
  },
  {
   "cell_type": "code",
   "execution_count": null,
   "id": "54f0ac53",
   "metadata": {},
   "outputs": [],
   "source": [
    "antitrombotico_limpio = antitrombotico.copy()\n",
    "\n",
    "\n",
    "\n",
    "def limpiar_anticoagulante(x):\n",
    "    if x['Tipo de anticoagulante'] != 'OTHER': \n",
    "        res = x['Tipo de anticoagulante'] \n",
    "    else:\n",
    "        res = x['Otro tipo']\n",
    "    return res\n",
    "antitrombotico_limpio['Tipo de anticoagulante'] = antitrombotico.apply(limpiar_anticoagulante,axis=1)\n",
    "\n",
    "def limpiar_acod(x):\n",
    "    if x['Tipo de ACOD'] != 'OTHER': \n",
    "        res = x['Tipo de ACOD'] \n",
    "    else:\n",
    "        res = x['Otro tipo de ACOD']\n",
    "    return res\n",
    "antitrombotico_limpio['Tipo de ACOD'] = antitrombotico.apply(limpiar_acod,axis=1 )\n",
    "\n",
    "def limpiar_terapeutico(x):\n",
    "    if x['Plan terapeutico del anticoagulante'] != 'OTHER': \n",
    "        res = x['Plan terapeutico del anticoagulante'] \n",
    "    else:\n",
    "        if x['Numero de meses'] == 1:\n",
    "            res = str(int(x['Numero de meses']))+'_MONTH'\n",
    "        else:\n",
    "            res = str(int(x['Numero de meses']))+'_MONTHS'\n",
    "    return res\n",
    "antitrombotico_limpio['Plan terapeutico del anticoagulante'] = antitrombotico.apply(limpiar_terapeutico, axis=1)\n",
    "\n",
    "antitrombotico_limpio.drop(borrar, axis='columns', inplace=True)\n",
    "antitrombotico_limpio.drop(filas_vacios, axis='rows', inplace=True)\n",
    "antitrombotico_limpio.to_csv('data/antitrombotico_limpio.csv')"
   ]
  },
  {
   "cell_type": "code",
   "execution_count": 112,
   "id": "4f959fe5",
   "metadata": {},
   "outputs": [
    {
     "data": {
      "text/plain": [
       "dtype('float64')"
      ]
     },
     "execution_count": 112,
     "metadata": {},
     "output_type": "execute_result"
    }
   ],
   "source": [
    "antitrombotico['Numero de meses'].dtype"
   ]
  },
  {
   "cell_type": "markdown",
   "id": "83668fb6",
   "metadata": {},
   "source": [
    "### Otros diagnosticos"
   ]
  },
  {
   "cell_type": "code",
   "execution_count": 113,
   "id": "1602f545",
   "metadata": {},
   "outputs": [
    {
     "data": {
      "text/plain": [
       "Paciente                        0\n",
       "Transtorno de la coagulación    0\n",
       "Discrasia sanguínea             0\n",
       "Diabetes                        0\n",
       "Dislipdemia                     0\n",
       "Enfermedad hepática             0\n",
       "Cancer                          0\n",
       "Anemia                          0\n",
       "Enfermedad renal                0\n",
       "dtype: int64"
      ]
     },
     "execution_count": 113,
     "metadata": {},
     "output_type": "execute_result"
    }
   ],
   "source": [
    "otros_diagnosticos.isna().sum()"
   ]
  },
  {
   "cell_type": "markdown",
   "id": "e698a37c",
   "metadata": {},
   "source": [
    "### Factores de riesgo"
   ]
  },
  {
   "cell_type": "code",
   "execution_count": 114,
   "id": "0c6cad1c",
   "metadata": {},
   "outputs": [
    {
     "data": {
      "text/plain": [
       "Deambulación alterada                             1.492537\n",
       "Estado mental                                     1.492537\n",
       "Caidas previas conocidas                          2.985075\n",
       "Toma algún medicamento presente en esta lista     2.985075\n",
       "Deficit sensorial                                 5.970149\n",
       "Tipo de consumo                                  94.029851\n",
       "Riesgo de caída                                  97.014925\n",
       "dtype: float64"
      ]
     },
     "execution_count": 114,
     "metadata": {},
     "output_type": "execute_result"
    }
   ],
   "source": [
    "(factores_riesgo.isna().sum()[factores_riesgo.isna().sum() > 0]/factores_riesgo.shape[0]*100).sort_values()"
   ]
  },
  {
   "cell_type": "code",
   "execution_count": 115,
   "id": "01e03f61",
   "metadata": {},
   "outputs": [
    {
     "data": {
      "text/plain": [
       "[]"
      ]
     },
     "execution_count": 115,
     "metadata": {},
     "output_type": "execute_result"
    }
   ],
   "source": [
    "factores_riesgo.isna().sum(axis='columns')[factores_riesgo.isna().sum(axis='columns') >= factores_riesgo.shape[1]-2].index.to_list()\n"
   ]
  },
  {
   "cell_type": "code",
   "execution_count": 116,
   "id": "5a44f55e",
   "metadata": {},
   "outputs": [],
   "source": [
    "factores_riesgo_limpio = factores_riesgo.copy()\n",
    "\n",
    "def limpiar_alcohol(x):\n",
    "    if x['Consumo diario de alcohol'] == 'NO': \n",
    "        res = x['Consumo diario de alcohol'] \n",
    "    else:\n",
    "        res = x['Tipo de consumo']\n",
    "    return res\n",
    "\n",
    "factores_riesgo_limpio['Consumo diario de alcohol'] = factores_riesgo.apply(limpiar_alcohol, axis='columns')\n",
    "factores_riesgo_limpio.drop('Tipo de consumo', axis='columns',inplace=True)\n",
    "factores_riesgo_limpio.to_csv('data/factores_riesgo_limpio.csv')"
   ]
  },
  {
   "cell_type": "markdown",
   "id": "454c087a",
   "metadata": {},
   "source": [
    "### Hábitos"
   ]
  },
  {
   "cell_type": "code",
   "execution_count": 117,
   "id": "1d2eee72",
   "metadata": {},
   "outputs": [
    {
     "data": {
      "text/plain": [
       "Codígo                                     0\n",
       "Actualizado en este seguimiento            0\n",
       "Realiza control regular de la presión?     0\n",
       "Minutos semanales de actividad aeróbica    0\n",
       "Dieta Mediterránea                         0\n",
       "dtype: int64"
      ]
     },
     "execution_count": 117,
     "metadata": {},
     "output_type": "execute_result"
    }
   ],
   "source": [
    "habitos.isna().sum()"
   ]
  }
 ],
 "metadata": {
  "kernelspec": {
   "display_name": "python3.12",
   "language": "python",
   "name": "python3"
  },
  "language_info": {
   "codemirror_mode": {
    "name": "ipython",
    "version": 3
   },
   "file_extension": ".py",
   "mimetype": "text/x-python",
   "name": "python",
   "nbconvert_exporter": "python",
   "pygments_lexer": "ipython3",
   "version": "3.12.3"
  }
 },
 "nbformat": 4,
 "nbformat_minor": 5
}
